{
  "nbformat": 4,
  "nbformat_minor": 0,
  "metadata": {
    "colab": {
      "name": "MNIST_Transfer_Learning.ipynb",
      "version": "0.3.2",
      "provenance": []
    },
    "kernelspec": {
      "name": "python3",
      "display_name": "Python 3"
    },
    "accelerator": "GPU"
  },
  "cells": [
    {
      "cell_type": "markdown",
      "metadata": {
        "id": "c5h9KkaU6qs6",
        "colab_type": "text"
      },
      "source": [
        "# Importations"
      ]
    },
    {
      "cell_type": "code",
      "metadata": {
        "id": "m0-5YpHfhD4l",
        "colab_type": "code",
        "colab": {
          "base_uri": "https://localhost:8080/",
          "height": 255
        },
        "outputId": "bd2df0dd-142c-4778-8ec8-307bd7e1fb9a"
      },
      "source": [
        "import torch\n",
        "import torchvision.datasets as datasets\n",
        "\n",
        "mnist_train = datasets.MNIST(root = './data', train = True, download = True, transform = None)\n",
        "mnist_test = datasets.MNIST(root = './data', train = False, download = True, transform = None)"
      ],
      "execution_count": 2,
      "outputs": [
        {
          "output_type": "stream",
          "text": [
            "  0%|          | 0/9912422 [00:00<?, ?it/s]"
          ],
          "name": "stderr"
        },
        {
          "output_type": "stream",
          "text": [
            "Downloading http://yann.lecun.com/exdb/mnist/train-images-idx3-ubyte.gz to ./data/MNIST/raw/train-images-idx3-ubyte.gz\n"
          ],
          "name": "stdout"
        },
        {
          "output_type": "stream",
          "text": [
            "9920512it [00:00, 20015933.59it/s]                            \n"
          ],
          "name": "stderr"
        },
        {
          "output_type": "stream",
          "text": [
            "Extracting ./data/MNIST/raw/train-images-idx3-ubyte.gz\n"
          ],
          "name": "stdout"
        },
        {
          "output_type": "stream",
          "text": [
            "32768it [00:00, 314302.07it/s]                           \n",
            "0it [00:00, ?it/s]"
          ],
          "name": "stderr"
        },
        {
          "output_type": "stream",
          "text": [
            "Downloading http://yann.lecun.com/exdb/mnist/train-labels-idx1-ubyte.gz to ./data/MNIST/raw/train-labels-idx1-ubyte.gz\n",
            "Extracting ./data/MNIST/raw/train-labels-idx1-ubyte.gz\n",
            "Downloading http://yann.lecun.com/exdb/mnist/t10k-images-idx3-ubyte.gz to ./data/MNIST/raw/t10k-images-idx3-ubyte.gz\n"
          ],
          "name": "stdout"
        },
        {
          "output_type": "stream",
          "text": [
            "1654784it [00:00, 5304811.74it/s]                           \n",
            "8192it [00:00, 122837.94it/s]\n"
          ],
          "name": "stderr"
        },
        {
          "output_type": "stream",
          "text": [
            "Extracting ./data/MNIST/raw/t10k-images-idx3-ubyte.gz\n",
            "Downloading http://yann.lecun.com/exdb/mnist/t10k-labels-idx1-ubyte.gz to ./data/MNIST/raw/t10k-labels-idx1-ubyte.gz\n",
            "Extracting ./data/MNIST/raw/t10k-labels-idx1-ubyte.gz\n",
            "Processing...\n",
            "Done!\n"
          ],
          "name": "stdout"
        }
      ]
    },
    {
      "cell_type": "markdown",
      "metadata": {
        "id": "uXeWiONi69g9",
        "colab_type": "text"
      },
      "source": [
        "# Model\n",
        "Building a neural network architecture with He initialization, ELU activation function, and 5 hidden layers with 100 neurons each."
      ]
    },
    {
      "cell_type": "code",
      "metadata": {
        "id": "5XxAhbARu1rA",
        "colab_type": "code",
        "colab": {}
      },
      "source": [
        "# B: Batch, D_in: Input, H: Hidden, D_out: Output\n",
        "B, D_in, H, D_out = 64, (28*28), 100, 10\n",
        "\n",
        "model = torch.nn.Sequential(\n",
        "    torch.nn.Linear(D_in, H),\n",
        "    torch.nn.ELU(),\n",
        "    torch.nn.Linear(H, H),\n",
        "    torch.nn.ELU(),\n",
        "    torch.nn.Linear(H, H),\n",
        "    torch.nn.ELU(),\n",
        "    torch.nn.Linear(H, H),\n",
        "    torch.nn.ELU(),\n",
        "    torch.nn.Linear(H, D_out)\n",
        ")"
      ],
      "execution_count": 0,
      "outputs": []
    },
    {
      "cell_type": "code",
      "metadata": {
        "id": "1MhACSKH3Roe",
        "colab_type": "code",
        "colab": {
          "base_uri": "https://localhost:8080/",
          "height": 204
        },
        "outputId": "bba4b0c1-2e1b-4fc4-a6ba-b236f6df4e25"
      },
      "source": [
        "def init_weights_xavier(m):\n",
        "  if type(m) == torch.nn.Linear:\n",
        "    torch.nn.init.xavier_uniform_(m.weight)\n",
        "    m.bias.data.fill_(0.01)\n",
        "    \n",
        "model.apply(init_weights_xavier)"
      ],
      "execution_count": 11,
      "outputs": [
        {
          "output_type": "execute_result",
          "data": {
            "text/plain": [
              "Sequential(\n",
              "  (0): Linear(in_features=784, out_features=100, bias=True)\n",
              "  (1): ELU(alpha=1.0)\n",
              "  (2): Linear(in_features=100, out_features=100, bias=True)\n",
              "  (3): ELU(alpha=1.0)\n",
              "  (4): Linear(in_features=100, out_features=100, bias=True)\n",
              "  (5): ELU(alpha=1.0)\n",
              "  (6): Linear(in_features=100, out_features=100, bias=True)\n",
              "  (7): ELU(alpha=1.0)\n",
              "  (8): Linear(in_features=100, out_features=10, bias=True)\n",
              ")"
            ]
          },
          "metadata": {
            "tags": []
          },
          "execution_count": 11
        }
      ]
    },
    {
      "cell_type": "markdown",
      "metadata": {
        "id": "SG5XjtA97Qhw",
        "colab_type": "text"
      },
      "source": [
        "# Transfer Learning\n",
        "Neural network will be trained on the first 5 characters from MNIST (0 to 4), and will then use transfer learning for the remaining digits (5 to 9) further down. Adam optimization along with early stopping will be used for training, and softmax for output. Model will be saved at regular intervals for reuse later."
      ]
    },
    {
      "cell_type": "code",
      "metadata": {
        "id": "sMHdMZKG55En",
        "colab_type": "code",
        "colab": {}
      },
      "source": [
        ""
      ],
      "execution_count": 0,
      "outputs": []
    }
  ]
}