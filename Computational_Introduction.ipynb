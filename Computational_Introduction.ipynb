{
  "nbformat": 4,
  "nbformat_minor": 0,
  "metadata": {
    "colab": {
      "name": "Computational_Introduction.ipynb",
      "version": "0.3.2",
      "provenance": []
    },
    "kernelspec": {
      "name": "python3",
      "display_name": "Python 3"
    },
    "accelerator": "GPU"
  },
  "cells": [
    {
      "cell_type": "code",
      "metadata": {
        "id": "b1FETJPNDxK-",
        "colab_type": "code",
        "colab": {}
      },
      "source": [
        "from __future__ import print_function\n",
        "import torch"
      ],
      "execution_count": 0,
      "outputs": []
    },
    {
      "cell_type": "markdown",
      "metadata": {
        "id": "mTTbTcHmOfki",
        "colab_type": "text"
      },
      "source": [
        "# Tensors"
      ]
    },
    {
      "cell_type": "code",
      "metadata": {
        "id": "s_iz0CaJELB5",
        "colab_type": "code",
        "colab": {
          "base_uri": "https://localhost:8080/",
          "height": 109
        },
        "outputId": "d6480a48-486e-4c6d-b6f9-f9cc5e944846"
      },
      "source": [
        "x = torch.empty(5, 3)\n",
        "\n",
        "print(x)"
      ],
      "execution_count": 2,
      "outputs": [
        {
          "output_type": "stream",
          "text": [
            "tensor([[1.7191e-36, 0.0000e+00, 3.3631e-44],\n",
            "        [0.0000e+00,        nan, 0.0000e+00],\n",
            "        [1.1578e+27, 1.1362e+30, 7.1547e+22],\n",
            "        [4.5828e+30, 1.2121e+04, 7.1846e+22],\n",
            "        [9.2198e-39, 0.0000e+00, 0.0000e+00]])\n"
          ],
          "name": "stdout"
        }
      ]
    },
    {
      "cell_type": "code",
      "metadata": {
        "id": "iwTfq_ClER1T",
        "colab_type": "code",
        "colab": {
          "base_uri": "https://localhost:8080/",
          "height": 109
        },
        "outputId": "b6be210c-e67e-43c4-fad7-f12d00b1f285"
      },
      "source": [
        "x = torch.rand(5, 3)\n",
        "\n",
        "print(x)"
      ],
      "execution_count": 3,
      "outputs": [
        {
          "output_type": "stream",
          "text": [
            "tensor([[0.0326, 0.4974, 0.8353],\n",
            "        [0.7340, 0.6347, 0.3311],\n",
            "        [0.0056, 0.3293, 0.0462],\n",
            "        [0.0281, 0.7541, 0.9336],\n",
            "        [0.5849, 0.1814, 0.5395]])\n"
          ],
          "name": "stdout"
        }
      ]
    },
    {
      "cell_type": "code",
      "metadata": {
        "id": "wA3SOX0lFH66",
        "colab_type": "code",
        "colab": {
          "base_uri": "https://localhost:8080/",
          "height": 109
        },
        "outputId": "31e99a2c-da60-4dcc-c914-bc7c2498c5c5"
      },
      "source": [
        "x = torch.zeros(5, 3, dtype = torch.long)\n",
        "\n",
        "print(x)"
      ],
      "execution_count": 4,
      "outputs": [
        {
          "output_type": "stream",
          "text": [
            "tensor([[0, 0, 0],\n",
            "        [0, 0, 0],\n",
            "        [0, 0, 0],\n",
            "        [0, 0, 0],\n",
            "        [0, 0, 0]])\n"
          ],
          "name": "stdout"
        }
      ]
    },
    {
      "cell_type": "code",
      "metadata": {
        "id": "UeSo1IIVFMl1",
        "colab_type": "code",
        "colab": {
          "base_uri": "https://localhost:8080/",
          "height": 35
        },
        "outputId": "664c3cc1-033f-4741-dff1-0cbb345ad4dd"
      },
      "source": [
        "x = torch.tensor([5.5, 3])\n",
        "\n",
        "print(x)"
      ],
      "execution_count": 5,
      "outputs": [
        {
          "output_type": "stream",
          "text": [
            "tensor([5.5000, 3.0000])\n"
          ],
          "name": "stdout"
        }
      ]
    },
    {
      "cell_type": "code",
      "metadata": {
        "id": "jzDG13VUFq7Y",
        "colab_type": "code",
        "colab": {
          "base_uri": "https://localhost:8080/",
          "height": 201
        },
        "outputId": "dd1daea3-c9bb-491c-b8d7-e42f63fa74e9"
      },
      "source": [
        "x = x.new_ones(5, 3, dtype = torch.double)\n",
        "print(x)\n",
        "\n",
        "x = torch.randn_like(x, dtype = torch.float)\n",
        "print(x)"
      ],
      "execution_count": 6,
      "outputs": [
        {
          "output_type": "stream",
          "text": [
            "tensor([[1., 1., 1.],\n",
            "        [1., 1., 1.],\n",
            "        [1., 1., 1.],\n",
            "        [1., 1., 1.],\n",
            "        [1., 1., 1.]], dtype=torch.float64)\n",
            "tensor([[ 1.1465,  0.6501,  1.4130],\n",
            "        [ 0.7883,  1.9018, -2.5592],\n",
            "        [-1.2009,  0.7214, -0.9734],\n",
            "        [-1.5392, -0.1012, -0.2325],\n",
            "        [-0.1215, -0.5672,  1.0818]])\n"
          ],
          "name": "stdout"
        }
      ]
    },
    {
      "cell_type": "code",
      "metadata": {
        "id": "0NijvwEfFzut",
        "colab_type": "code",
        "colab": {
          "base_uri": "https://localhost:8080/",
          "height": 35
        },
        "outputId": "7f59c3db-6bbc-42af-b445-3052ae295826"
      },
      "source": [
        "print(x.size())"
      ],
      "execution_count": 7,
      "outputs": [
        {
          "output_type": "stream",
          "text": [
            "torch.Size([5, 3])\n"
          ],
          "name": "stdout"
        }
      ]
    },
    {
      "cell_type": "markdown",
      "metadata": {
        "id": "UeqEiWbgN59T",
        "colab_type": "text"
      },
      "source": [
        "# Operations"
      ]
    },
    {
      "cell_type": "code",
      "metadata": {
        "id": "UpmITSuwOkOa",
        "colab_type": "code",
        "colab": {
          "base_uri": "https://localhost:8080/",
          "height": 109
        },
        "outputId": "0d07fa3a-0056-486f-fa57-44cff6c0abcb"
      },
      "source": [
        "y = torch.rand(5,3)\n",
        "x = torch.rand(5,3)\n",
        "z = x+y\n",
        "print(z)"
      ],
      "execution_count": 8,
      "outputs": [
        {
          "output_type": "stream",
          "text": [
            "tensor([[1.2762, 1.2608, 1.7661],\n",
            "        [1.0114, 0.4650, 0.8981],\n",
            "        [0.7981, 1.3313, 1.9112],\n",
            "        [1.4461, 0.3053, 0.5846],\n",
            "        [1.6530, 1.3625, 0.2528]])\n"
          ],
          "name": "stdout"
        }
      ]
    },
    {
      "cell_type": "code",
      "metadata": {
        "id": "MvTjVh6kOruU",
        "colab_type": "code",
        "colab": {
          "base_uri": "https://localhost:8080/",
          "height": 109
        },
        "outputId": "104b29eb-a5cb-464b-f12d-e882d23e0115"
      },
      "source": [
        "z = torch.add(x, y)\n",
        "print(z)"
      ],
      "execution_count": 9,
      "outputs": [
        {
          "output_type": "stream",
          "text": [
            "tensor([[1.2762, 1.2608, 1.7661],\n",
            "        [1.0114, 0.4650, 0.8981],\n",
            "        [0.7981, 1.3313, 1.9112],\n",
            "        [1.4461, 0.3053, 0.5846],\n",
            "        [1.6530, 1.3625, 0.2528]])\n"
          ],
          "name": "stdout"
        }
      ]
    },
    {
      "cell_type": "code",
      "metadata": {
        "id": "7AgqnFJUQBy8",
        "colab_type": "code",
        "colab": {
          "base_uri": "https://localhost:8080/",
          "height": 109
        },
        "outputId": "cefbdb55-87c4-4b21-f71d-95a4422a5ce0"
      },
      "source": [
        "result = torch.empty(5, 3)\n",
        "torch.add(x, y, out = result)\n",
        "print(result)"
      ],
      "execution_count": 10,
      "outputs": [
        {
          "output_type": "stream",
          "text": [
            "tensor([[1.2762, 1.2608, 1.7661],\n",
            "        [1.0114, 0.4650, 0.8981],\n",
            "        [0.7981, 1.3313, 1.9112],\n",
            "        [1.4461, 0.3053, 0.5846],\n",
            "        [1.6530, 1.3625, 0.2528]])\n"
          ],
          "name": "stdout"
        }
      ]
    },
    {
      "cell_type": "code",
      "metadata": {
        "id": "qExxqbrpQKpS",
        "colab_type": "code",
        "colab": {
          "base_uri": "https://localhost:8080/",
          "height": 109
        },
        "outputId": "24d41919-8548-4df5-9966-1ad3c8566d3b"
      },
      "source": [
        "y.add_(x)\n",
        "print(y)"
      ],
      "execution_count": 11,
      "outputs": [
        {
          "output_type": "stream",
          "text": [
            "tensor([[1.2762, 1.2608, 1.7661],\n",
            "        [1.0114, 0.4650, 0.8981],\n",
            "        [0.7981, 1.3313, 1.9112],\n",
            "        [1.4461, 0.3053, 0.5846],\n",
            "        [1.6530, 1.3625, 0.2528]])\n"
          ],
          "name": "stdout"
        }
      ]
    },
    {
      "cell_type": "code",
      "metadata": {
        "id": "mbkNj8U1QS6C",
        "colab_type": "code",
        "colab": {
          "base_uri": "https://localhost:8080/",
          "height": 35
        },
        "outputId": "d07c2669-e661-47a5-c616-3c71de17fb34"
      },
      "source": [
        "print(x[:1])"
      ],
      "execution_count": 12,
      "outputs": [
        {
          "output_type": "stream",
          "text": [
            "tensor([[0.7358, 0.6178, 0.8345]])\n"
          ],
          "name": "stdout"
        }
      ]
    },
    {
      "cell_type": "code",
      "metadata": {
        "id": "RaM9F21MQap3",
        "colab_type": "code",
        "colab": {
          "base_uri": "https://localhost:8080/",
          "height": 35
        },
        "outputId": "d996ec4d-59f1-45f8-c61b-86e16fb04a69"
      },
      "source": [
        "x = torch.randn(4,4)\n",
        "y = x.view(16)\n",
        "z = x.view(-1, 8)\n",
        "\n",
        "print(x.size(), y.size(), z.size())"
      ],
      "execution_count": 13,
      "outputs": [
        {
          "output_type": "stream",
          "text": [
            "torch.Size([4, 4]) torch.Size([16]) torch.Size([2, 8])\n"
          ],
          "name": "stdout"
        }
      ]
    },
    {
      "cell_type": "code",
      "metadata": {
        "id": "Dys25QRrQqoS",
        "colab_type": "code",
        "colab": {
          "base_uri": "https://localhost:8080/",
          "height": 54
        },
        "outputId": "c34e24dd-a85a-4ad4-bc52-09ccf3705972"
      },
      "source": [
        "x = torch.randn(1)\n",
        "print(x)\n",
        "print(x.item())"
      ],
      "execution_count": 14,
      "outputs": [
        {
          "output_type": "stream",
          "text": [
            "tensor([1.0818])\n",
            "1.0817595720291138\n"
          ],
          "name": "stdout"
        }
      ]
    },
    {
      "cell_type": "markdown",
      "metadata": {
        "id": "27METgp0RC9u",
        "colab_type": "text"
      },
      "source": [
        "# NumPy Bridge"
      ]
    },
    {
      "cell_type": "markdown",
      "metadata": {
        "id": "clTif9G0Sz9_",
        "colab_type": "text"
      },
      "source": [
        "## Converting from Tensor to NumPy"
      ]
    },
    {
      "cell_type": "code",
      "metadata": {
        "id": "zmNp37jVQ6gP",
        "colab_type": "code",
        "colab": {
          "base_uri": "https://localhost:8080/",
          "height": 35
        },
        "outputId": "a088a60b-c2eb-4929-e8e8-5e80ef45385e"
      },
      "source": [
        "a = torch.ones(5)\n",
        "print(a)"
      ],
      "execution_count": 15,
      "outputs": [
        {
          "output_type": "stream",
          "text": [
            "tensor([1., 1., 1., 1., 1.])\n"
          ],
          "name": "stdout"
        }
      ]
    },
    {
      "cell_type": "code",
      "metadata": {
        "id": "P-5BFHE8Rcmt",
        "colab_type": "code",
        "colab": {
          "base_uri": "https://localhost:8080/",
          "height": 35
        },
        "outputId": "facc9dd4-5987-450d-b6ff-7dd292ac2cda"
      },
      "source": [
        "b = a.numpy()\n",
        "print(b)"
      ],
      "execution_count": 16,
      "outputs": [
        {
          "output_type": "stream",
          "text": [
            "[1. 1. 1. 1. 1.]\n"
          ],
          "name": "stdout"
        }
      ]
    },
    {
      "cell_type": "code",
      "metadata": {
        "id": "Oxwnb2lSReyf",
        "colab_type": "code",
        "colab": {
          "base_uri": "https://localhost:8080/",
          "height": 54
        },
        "outputId": "7adb2b05-1ca7-44b0-a6d9-eb77641eb6ca"
      },
      "source": [
        "a.add_(1)\n",
        "print(a)\n",
        "print(b)"
      ],
      "execution_count": 17,
      "outputs": [
        {
          "output_type": "stream",
          "text": [
            "tensor([2., 2., 2., 2., 2.])\n",
            "[2. 2. 2. 2. 2.]\n"
          ],
          "name": "stdout"
        }
      ]
    },
    {
      "cell_type": "markdown",
      "metadata": {
        "id": "kp1vL06pS6O8",
        "colab_type": "text"
      },
      "source": [
        "## Converting from NumPy to Tensor"
      ]
    },
    {
      "cell_type": "code",
      "metadata": {
        "id": "Oo_mnNB2RjRy",
        "colab_type": "code",
        "colab": {
          "base_uri": "https://localhost:8080/",
          "height": 54
        },
        "outputId": "69b6eece-ebc7-4867-8612-5ae966415a60"
      },
      "source": [
        "import numpy as np\n",
        "a = np.ones(5)\n",
        "b = torch.from_numpy(a)\n",
        "np.add(a, 1, out=a)\n",
        "print(a)\n",
        "print(b)"
      ],
      "execution_count": 18,
      "outputs": [
        {
          "output_type": "stream",
          "text": [
            "[2. 2. 2. 2. 2.]\n",
            "tensor([2., 2., 2., 2., 2.], dtype=torch.float64)\n"
          ],
          "name": "stdout"
        }
      ]
    },
    {
      "cell_type": "markdown",
      "metadata": {
        "id": "RnxvwWHsS8xG",
        "colab_type": "text"
      },
      "source": [
        "## Move Tensor in and out of GPU (CUDA Tensor)"
      ]
    },
    {
      "cell_type": "code",
      "metadata": {
        "id": "MgbDg7SJSlSm",
        "colab_type": "code",
        "colab": {
          "base_uri": "https://localhost:8080/",
          "height": 54
        },
        "outputId": "2298fbf0-12c8-4160-c9b8-ff5364dbb421"
      },
      "source": [
        "# let us run this cell only if CUDA is available\n",
        "# We will use ``torch.device`` objects to move tensors in and out of GPU\n",
        "if torch.cuda.is_available():\n",
        "    device = torch.device(\"cuda\")          # a CUDA device object\n",
        "    y = torch.ones_like(x, device=device)  # directly create a tensor on GPU\n",
        "    x = x.to(device)                       # or just use strings ``.to(\"cuda\")``\n",
        "    z = x + y\n",
        "    print(z)\n",
        "    print(z.to(\"cpu\", torch.double))       # ``.to`` can also change dtype together!"
      ],
      "execution_count": 19,
      "outputs": [
        {
          "output_type": "stream",
          "text": [
            "tensor([2.0818], device='cuda:0')\n",
            "tensor([2.0818], dtype=torch.float64)\n"
          ],
          "name": "stdout"
        }
      ]
    }
  ]
}